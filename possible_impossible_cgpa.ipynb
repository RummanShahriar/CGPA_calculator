{
  "nbformat": 4,
  "nbformat_minor": 0,
  "metadata": {
    "colab": {
      "provenance": [],
      "authorship_tag": "ABX9TyP3nQyac1YGoc+t6wm1iSG2",
      "include_colab_link": true
    },
    "kernelspec": {
      "name": "python3",
      "display_name": "Python 3"
    },
    "language_info": {
      "name": "python"
    }
  },
  "cells": [
    {
      "cell_type": "markdown",
      "metadata": {
        "id": "view-in-github",
        "colab_type": "text"
      },
      "source": [
        "<a href=\"https://colab.research.google.com/github/RummanShahriar/CGPA_calculator/blob/main/possible_impossible_cgpa.ipynb\" target=\"_parent\"><img src=\"https://colab.research.google.com/assets/colab-badge.svg\" alt=\"Open In Colab\"/></a>"
      ]
    },
    {
      "cell_type": "markdown",
      "source": [
        "#CSE"
      ],
      "metadata": {
        "id": "d3zCLNPTcObb"
      }
    },
    {
      "cell_type": "code",
      "execution_count": 4,
      "metadata": {
        "colab": {
          "base_uri": "https://localhost:8080/"
        },
        "id": "0Io8OEMsCnn1",
        "outputId": "0bdb2461-82b9-43ec-e3f7-4029b430648b"
      },
      "outputs": [
        {
          "output_type": "stream",
          "name": "stdout",
          "text": [
            "Enter your Completed credits here:66\n",
            "Enter your current CGPA:3.92\n",
            "Enter your TARGET cgpa here:3.96\n",
            "To achieve the goal 22.0 more courses needs to be completed with a cg-4.00\n"
          ]
        }
      ],
      "source": [
        "credit = float(input(\"Enter your Completed credits here:\"))\n",
        "cpc = 3 # cpc = credit_per_course\n",
        "\n",
        "now_cg = float(input(\"Enter your current CGPA:\"))\n",
        "now_number = now_cg * (credit/cpc)\n",
        "\n",
        "store = credit/cpc\n",
        "now_credit = credit/cpc\n",
        "\n",
        "# to_get goal\n",
        "target_cgpa = float(input(\"Enter your TARGET cgpa here:\"))\n",
        "\n",
        "while True :\n",
        "    cg = now_number/now_credit\n",
        "    if cg == target_cgpa or cg > target_cgpa or  now_credit > 45 :\n",
        "        break\n",
        "    else :\n",
        "        now_number += 4\n",
        "        now_credit += 1\n",
        "\n",
        "if now_credit > 45 :\n",
        "  print(\"Impossible\")\n",
        "else :\n",
        "  print(f\"To achieve the goal {now_credit-store} more courses needs to be completed with a cg-4.00\")"
      ]
    },
    {
      "cell_type": "markdown",
      "source": [
        "#CS"
      ],
      "metadata": {
        "id": "bL_rjK17cKat"
      }
    },
    {
      "cell_type": "code",
      "source": [
        "credit = float(input(\"Enter your Completed credits here:\"))\n",
        "cpc = 3 # cpc = credit_per_course\n",
        "\n",
        "now_cg = float(input(\"Enter your current CGPA:\"))\n",
        "now_number = now_cg * (credit/cpc)\n",
        "\n",
        "store = credit/cpc\n",
        "now_credit = credit/cpc\n",
        "\n",
        "# to_get goal\n",
        "target_cgpa = float(input(\"Enter your TARGET cgpa here:\"))\n",
        "\n",
        "while True :\n",
        "    cg = now_number/now_credit\n",
        "    if cg == target_cgpa or cg > target_cgpa or  now_credit > 45 :\n",
        "        break\n",
        "    else :\n",
        "        now_number += 4\n",
        "        now_credit += 1\n",
        "\n",
        "if now_credit > 41 :\n",
        "  print(\"Impossible\")\n",
        "else :\n",
        "  print(f\"To achieve the goal {now_credit-store} more courses needs to be completed with a cg-4.00\")"
      ],
      "metadata": {
        "colab": {
          "base_uri": "https://localhost:8080/"
        },
        "id": "JcxVldP6cKAG",
        "outputId": "b73ef8d3-884b-4e24-a8da-770a108969e9"
      },
      "execution_count": 2,
      "outputs": [
        {
          "output_type": "stream",
          "name": "stdout",
          "text": [
            "Enter your Completed credits here:66\n",
            "Enter your current CGPA:3.92\n",
            "Enter your TARGET cgpa here:3.95\n",
            "To achieve the goal 14.0 more courses needs to be completed with a cg-4.00\n"
          ]
        }
      ]
    }
  ]
}