{
  "nbformat": 4,
  "nbformat_minor": 0,
  "metadata": {
    "colab": {
      "provenance": [],
      "authorship_tag": "ABX9TyNwopkbLQjTwQPG9+B6u0ol",
      "include_colab_link": true
    },
    "kernelspec": {
      "name": "python3",
      "display_name": "Python 3"
    },
    "language_info": {
      "name": "python"
    }
  },
  "cells": [
    {
      "cell_type": "markdown",
      "metadata": {
        "id": "view-in-github",
        "colab_type": "text"
      },
      "source": [
        "<a href=\"https://colab.research.google.com/github/RummanShahriar/CGPA_calculator/blob/main/Calculate_your_Graduation_time_targeted_cgpa.ipynb\" target=\"_parent\"><img src=\"https://colab.research.google.com/assets/colab-badge.svg\" alt=\"Open In Colab\"/></a>"
      ]
    },
    {
      "cell_type": "markdown",
      "source": [
        "#Calculate your Graduation time targeted cgpa"
      ],
      "metadata": {
        "id": "f2Fn3myutjpB"
      }
    },
    {
      "cell_type": "markdown",
      "source": [
        "#CS"
      ],
      "metadata": {
        "id": "kfO33xjntbDY"
      }
    },
    {
      "cell_type": "code",
      "execution_count": 1,
      "metadata": {
        "colab": {
          "base_uri": "https://localhost:8080/"
        },
        "id": "gSjf6L24tMqj",
        "outputId": "1c3aad9d-bc1f-4144-df2c-2dd37ad096ea"
      },
      "outputs": [
        {
          "output_type": "stream",
          "name": "stdout",
          "text": [
            "Enter your Completed credits here:66\n",
            "Enter your current CGPA:3.92\n",
            "Enter your graduation_time_cgpa_target here:3.95\n",
            "The avg cg that you have to fulfill in upcoming semesters is 3.98\n"
          ]
        }
      ],
      "source": [
        "credit_done = float(input(\"Enter your Completed credits here:\"))\n",
        "cpc = 3 # cpc = credit_per_course\n",
        "\n",
        "now_cg = float(input(\"Enter your current CGPA:\"))\n",
        "now_magic_number = now_cg * (credit_done/cpc)\n",
        "\n",
        "#CS\n",
        "total_credits = 124-1\n",
        "credits_left = total_credits - credit_done\n",
        "course_left = credits_left/cpc\n",
        "\n",
        "#Part-II\n",
        "graduation_time_cgpa_target = float(input(\"Enter your graduation_time_cgpa_target here:\"))\n",
        "graduation_magic_number = graduation_time_cgpa_target*(total_credits/cpc)\n",
        "\n",
        "#Part-III\n",
        "magic_left = graduation_magic_number-now_magic_number\n",
        "figure = magic_left/course_left\n",
        "if figure < 4.00 :\n",
        "  print(\"The avg cg that you have to fulfill in upcoming semesters is\",round(figure,2))\n",
        "else :\n",
        "  print(\"Impossible, plz lower your expectations #SORRY\")\n"
      ]
    },
    {
      "cell_type": "markdown",
      "source": [
        "#CSE"
      ],
      "metadata": {
        "id": "nCCy30KVtl1r"
      }
    },
    {
      "cell_type": "code",
      "source": [
        "credit_done = float(input(\"Enter your Completed credits here:\"))\n",
        "cpc = 3 # cpc = credit_per_course\n",
        "\n",
        "now_cg = float(input(\"Enter your current CGPA:\"))\n",
        "now_magic_number = now_cg * (credit_done/cpc)\n",
        "\n",
        "#CSE\n",
        "total_credits = 136-1\n",
        "credits_left = total_credits - credit_done\n",
        "course_left = credits_left/cpc\n",
        "\n",
        "#Part-II\n",
        "graduation_time_cgpa_target = float(input(\"Enter your graduation_time_cgpa_target here:\"))\n",
        "graduation_magic_number = graduation_time_cgpa_target*(total_credits/cpc)\n",
        "\n",
        "#Part-III\n",
        "magic_left = graduation_magic_number-now_magic_number\n",
        "figure = magic_left/course_left\n",
        "if figure < 4.00 :\n",
        "  print(\"The avg cg that you have to fulfill in upcoming semesters is\",round(figure,2))\n",
        "else :\n",
        "  print(\"Impossible, plz lower your expectations #SORRY\")\n"
      ],
      "metadata": {
        "colab": {
          "base_uri": "https://localhost:8080/"
        },
        "id": "KIDLJE8AtmuU",
        "outputId": "bb4ed232-003e-4ae6-b248-641e4918a982"
      },
      "execution_count": 2,
      "outputs": [
        {
          "output_type": "stream",
          "name": "stdout",
          "text": [
            "Enter your Completed credits here:66\n",
            "Enter your current CGPA:3.92\n",
            "Enter your graduation_time_cgpa_target here:3.96\n",
            "The avg cg that you have to fulfill in upcoming semesters is 4.0\n"
          ]
        }
      ]
    }
  ]
}