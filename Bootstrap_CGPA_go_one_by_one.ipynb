{
  "nbformat": 4,
  "nbformat_minor": 0,
  "metadata": {
    "colab": {
      "provenance": [],
      "authorship_tag": "ABX9TyNI8q7M36bEvPRNCKmHb7+3",
      "include_colab_link": true
    },
    "kernelspec": {
      "name": "python3",
      "display_name": "Python 3"
    },
    "language_info": {
      "name": "python"
    }
  },
  "cells": [
    {
      "cell_type": "markdown",
      "metadata": {
        "id": "view-in-github",
        "colab_type": "text"
      },
      "source": [
        "<a href=\"https://colab.research.google.com/github/RummanShahriar/CGPA_calculator/blob/main/Bootstrap_CGPA_go_one_by_one.ipynb\" target=\"_parent\"><img src=\"https://colab.research.google.com/assets/colab-badge.svg\" alt=\"Open In Colab\"/></a>"
      ]
    },
    {
      "cell_type": "markdown",
      "source": [
        "#Bootstrap CGPA go one by one"
      ],
      "metadata": {
        "id": "KoySZzqQ9sCO"
      }
    },
    {
      "cell_type": "code",
      "execution_count": 1,
      "metadata": {
        "colab": {
          "base_uri": "https://localhost:8080/"
        },
        "id": "twDQ7XUr9oRy",
        "outputId": "9f79d293-3511-45b3-82dc-be150df30534"
      },
      "outputs": [
        {
          "output_type": "stream",
          "name": "stdout",
          "text": [
            "Enter your 1st course cgpa here:4\n",
            "4.0\n",
            "Enter your 2rd course cgpa here:3.3\n",
            "3.65\n",
            "Enter your 3rd course cgpa here:3.7\n",
            "3.67\n",
            "Enter your 4th course cgpa here:4\n",
            "3.75\n",
            "Enter your 5th course cgpa here:4\n",
            "3.8\n",
            "Enter your 6th course cgpa here:4\n",
            "3.83\n",
            "Enter your 7th course cgpa here:\n",
            "Finish\n",
            "Final Grade is:  3.83\n"
          ]
        }
      ],
      "source": [
        "i = 1\n",
        "cgpa = 0\n",
        "while True :\n",
        "  if i == 1 :\n",
        "    cg = input(f\"Enter your {i}st course cgpa here:\")\n",
        "\n",
        "  elif i == 2 or i == 3 :\n",
        "    cg = input(f\"Enter your {i}rd course cgpa here:\")\n",
        "\n",
        "  else :\n",
        "    cg = input(f\"Enter your {i}th course cgpa here:\")\n",
        "\n",
        "  if cg == \"\" :\n",
        "    print(\"Finish\")\n",
        "    print(\"Final Grade is:\",figure)\n",
        "    break\n",
        "  else :\n",
        "    cgpa += float(cg)\n",
        "    figure = round(cgpa/i,2)\n",
        "    print(figure)\n",
        "    i += 1\n",
        ""
      ]
    }
  ]
}