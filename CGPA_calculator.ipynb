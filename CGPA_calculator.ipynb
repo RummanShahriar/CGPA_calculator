{
  "nbformat": 4,
  "nbformat_minor": 0,
  "metadata": {
    "colab": {
      "provenance": [],
      "authorship_tag": "ABX9TyPNI2t7RQey/5djCoz65XKV",
      "include_colab_link": true
    },
    "kernelspec": {
      "name": "python3",
      "display_name": "Python 3"
    },
    "language_info": {
      "name": "python"
    }
  },
  "cells": [
    {
      "cell_type": "markdown",
      "metadata": {
        "id": "view-in-github",
        "colab_type": "text"
      },
      "source": [
        "<a href=\"https://colab.research.google.com/github/RummanShahriar/CGPA_calculator/blob/main/CGPA_calculator.ipynb\" target=\"_parent\"><img src=\"https://colab.research.google.com/assets/colab-badge.svg\" alt=\"Open In Colab\"/></a>"
      ]
    },
    {
      "cell_type": "code",
      "execution_count": 10,
      "metadata": {
        "colab": {
          "base_uri": "https://localhost:8080/"
        },
        "id": "t3LG0Zlq3MNl",
        "outputId": "772ff0c4-673a-4e0e-9ff2-3e096b8f4baf"
      },
      "outputs": [
        {
          "output_type": "stream",
          "name": "stdout",
          "text": [
            "Enter your Completed credits here:54\n",
            "Enter your current CGPA:3.91\n",
            "Enter the number of course taken this semster:4\n",
            "Enter the grade that you think you will get in course 1:4\n",
            "Enter the grade that you think you will get in course 2:4\n",
            "Enter the grade that you think you will get in course 3:4\n",
            "Enter the grade that you think you will get in course 4:4\n",
            "\n",
            "Your cgpa will be: 3.9263636363636363\n"
          ]
        }
      ],
      "source": [
        "credit = float(input(\"Enter your Completed credits here:\"))\n",
        "cpc = 3 # cpc = credit_per_course\n",
        "now_cg = float(input(\"Enter your current CGPA:\"))\n",
        "course_taken = int(input(\"Enter the number of course taken this semster:\"))\n",
        "# Calculation #\n",
        "sum = 0\n",
        "for i in range(course_taken) :\n",
        "  x = float(input(f\"Enter the grade that you think you will get in course {i+1}:\"))\n",
        "  sum += x\n",
        "course = credit/cpc\n",
        "a = course*now_cg\n",
        "sum += a\n",
        "div = sum / (course + course_taken)\n",
        "print()\n",
        "print(\"Your cgpa will be:\",div)"
      ]
    }
  ]
}